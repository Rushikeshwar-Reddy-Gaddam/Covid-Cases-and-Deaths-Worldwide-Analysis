{
 "cells": [
  {
   "cell_type": "code",
   "execution_count": 1,
   "id": "80d337b6",
   "metadata": {},
   "outputs": [
    {
     "name": "stdout",
     "output_type": "stream",
     "text": [
      "   Serial Number  Country  Total Cases Total Deaths Total Recovered  \\\n",
      "0              1      USA  104,196,861    1,132,935     101,322,779   \n",
      "1              2    India   44,682,784      530,740      44,150,289   \n",
      "2              3   France   39,524,311      164,233      39,264,546   \n",
      "3              4  Germany   37,779,833      165,711      37,398,100   \n",
      "4              5   Brazil   36,824,580      697,074      35,919,372   \n",
      "\n",
      "  Active Cases     Total Test     Population  \n",
      "0    1,741,147  1,159,832,679    334,805,269  \n",
      "1        1,755    915,265,788  1,406,631,776  \n",
      "2       95,532    271,490,188     65,584,518  \n",
      "3      216,022    122,332,384     83,883,596  \n",
      "4      208,134     63,776,166    215,353,593  \n"
     ]
    }
   ],
   "source": [
    "# Import necessary libraries\n",
    "import pandas as pd\n",
    "import numpy as np\n",
    "import matplotlib.pyplot as plt\n",
    "\n",
    "# Load the dataset\n",
    "df = pd.read_csv(\"covid_worldwide.csv\")\n",
    "\n",
    "# Display the first few rows of data\n",
    "print(df.head())\n"
   ]
  },
  {
   "cell_type": "code",
   "execution_count": 2,
   "id": "1343aeb8",
   "metadata": {},
   "outputs": [
    {
     "name": "stdout",
     "output_type": "stream",
     "text": [
      "Serial Number       int64\n",
      "Country            object\n",
      "Total Cases        object\n",
      "Total Deaths       object\n",
      "Total Recovered    object\n",
      "Active Cases       object\n",
      "Total Test         object\n",
      "Population         object\n",
      "dtype: object\n"
     ]
    }
   ],
   "source": [
    "# Check the data types of each column\n",
    "print(df.dtypes)"
   ]
  },
  {
   "cell_type": "code",
   "execution_count": 3,
   "id": "39f684e0",
   "metadata": {},
   "outputs": [
    {
     "name": "stdout",
     "output_type": "stream",
     "text": [
      "Serial Number       0\n",
      "Country             0\n",
      "Total Cases         0\n",
      "Total Deaths        6\n",
      "Total Recovered    21\n",
      "Active Cases       19\n",
      "Total Test         18\n",
      "Population          3\n",
      "dtype: int64\n"
     ]
    }
   ],
   "source": [
    "# Check for missing values\n",
    "print(df.isnull().sum())"
   ]
  },
  {
   "cell_type": "code",
   "execution_count": 4,
   "id": "5261bf86",
   "metadata": {},
   "outputs": [
    {
     "name": "stdout",
     "output_type": "stream",
     "text": [
      "       Serial Number\n",
      "count     231.000000\n",
      "mean      116.000000\n",
      "std        66.828138\n",
      "min         1.000000\n",
      "25%        58.500000\n",
      "50%       116.000000\n",
      "75%       173.500000\n",
      "max       231.000000\n"
     ]
    }
   ],
   "source": [
    "# Get the statistical summary of the dataset\n",
    "print(df.describe())"
   ]
  },
  {
   "cell_type": "code",
   "execution_count": null,
   "id": "d6aee73e",
   "metadata": {},
   "outputs": [
    {
     "name": "stdout",
     "output_type": "stream",
     "text": [
      "Requirement already satisfied: kaggle in ./opt/anaconda3/lib/python3.9/site-packages (1.5.13)\n",
      "Requirement already satisfied: python-dateutil in ./opt/anaconda3/lib/python3.9/site-packages (from kaggle) (2.8.2)\n",
      "Requirement already satisfied: python-slugify in ./opt/anaconda3/lib/python3.9/site-packages (from kaggle) (5.0.2)\n",
      "Requirement already satisfied: requests in ./opt/anaconda3/lib/python3.9/site-packages (from kaggle) (2.28.1)\n",
      "Requirement already satisfied: tqdm in ./opt/anaconda3/lib/python3.9/site-packages (from kaggle) (4.64.0)\n",
      "Requirement already satisfied: urllib3 in ./opt/anaconda3/lib/python3.9/site-packages (from kaggle) (1.26.11)\n",
      "Requirement already satisfied: six>=1.10 in ./opt/anaconda3/lib/python3.9/site-packages (from kaggle) (1.16.0)\n",
      "Requirement already satisfied: certifi in ./opt/anaconda3/lib/python3.9/site-packages (from kaggle) (2022.6.15)\n",
      "Requirement already satisfied: text-unidecode>=1.3 in ./opt/anaconda3/lib/python3.9/site-packages (from python-slugify->kaggle) (1.3)\n",
      "Requirement already satisfied: charset-normalizer<3,>=2 in ./opt/anaconda3/lib/python3.9/site-packages (from requests->kaggle) (2.0.4)\n",
      "Requirement already satisfied: idna<4,>=2.5 in ./opt/anaconda3/lib/python3.9/site-packages (from requests->kaggle) (3.3)\n",
      "mkdir: /Users/jagadeeshreddymandapati/.kaggle: File exists\n",
      "401 - Unauthorized\n",
      "Archive:  covid-cases-and-deaths-worldwide.zip\n",
      "replace covid_worldwide.csv? [y]es, [n]o, [A]ll, [N]one, [r]ename: "
     ]
    }
   ],
   "source": [
    "# Install the Kaggle API\n",
    "!pip install kaggle\n",
    "\n",
    "# Download the dataset from Kaggle using the Kaggle API\n",
    "!mkdir ~/.kaggle\n",
    "!echo '{\"username\":\"heartattack6281\",\"key\":\"9c03e0f9cc13912d812cdba4e46061ac\"}' > ~/.kaggle/kaggle.json\n",
    "!chmod 600 ~/.kaggle/kaggle.json\n",
    "!kaggle datasets download -d themrityunjaypathak/covid-cases-and-deaths-worldwide -f covid-cases-and-deaths-worldwide.zip\n",
    "\n",
    "# Unzip the downloaded file\n",
    "!unzip covid-cases-and-deaths-worldwide.zip\n",
    "\n",
    "# Load the dataset into a Pandas DataFrame\n",
    "import pandas as pd\n",
    "df = pd.read_csv('covid_worldwide.csv')"
   ]
  },
  {
   "cell_type": "code",
   "execution_count": null,
   "id": "719114a0",
   "metadata": {},
   "outputs": [],
   "source": [
    "# Drop null values\n",
    "df.dropna(inplace=True)\n",
    "\n",
    "# Remove commas from columns\n",
    "df['Total Cases'] = df['Total Cases'].astype(str).str.replace(',', '').astype(int)\n",
    "df['Total Deaths'] = df['Total Deaths'].astype(str).str.replace(',', '').astype(int)\n",
    "df['Total Recovered'] = df['Total Recovered'].astype(str).str.replace(',', '').astype(int)\n"
   ]
  },
  {
   "cell_type": "code",
   "execution_count": null,
   "id": "a89f4f86",
   "metadata": {},
   "outputs": [],
   "source": [
    "# Import necessary libraries\n",
    "import matplotlib.pyplot as plt\n",
    "import seaborn as sns\n",
    "\n",
    "# Create a bar chart showing the total deaths by country\n",
    "plt.figure(figsize=(15,10))\n",
    "sns.barplot(x='Country', y='Total Deaths', data=df)\n",
    "plt.xticks(rotation=90)\n",
    "plt.title('Total Deaths by Country')\n",
    "plt.xlabel('Country')\n",
    "plt.ylabel('Total Deaths')\n",
    "plt.show()"
   ]
  },
  {
   "cell_type": "code",
   "execution_count": null,
   "id": "6e90a6c8",
   "metadata": {},
   "outputs": [],
   "source": []
  }
 ],
 "metadata": {
  "kernelspec": {
   "display_name": "Python 3 (ipykernel)",
   "language": "python",
   "name": "python3"
  },
  "language_info": {
   "codemirror_mode": {
    "name": "ipython",
    "version": 3
   },
   "file_extension": ".py",
   "mimetype": "text/x-python",
   "name": "python",
   "nbconvert_exporter": "python",
   "pygments_lexer": "ipython3",
   "version": "3.9.13"
  }
 },
 "nbformat": 4,
 "nbformat_minor": 5
}
